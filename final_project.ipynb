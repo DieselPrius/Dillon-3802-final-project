{
 "cells": [
  {
   "cell_type": "markdown",
   "id": "8f38b4f8",
   "metadata": {},
   "source": [
    "# OA3802 Final Project"
   ]
  },
  {
   "cell_type": "code",
   "execution_count": 22,
   "id": "2fe44faf",
   "metadata": {},
   "outputs": [],
   "source": [
    "import time"
   ]
  },
  {
   "cell_type": "code",
   "execution_count": 10,
   "id": "a9d35bb3",
   "metadata": {},
   "outputs": [],
   "source": [
    "#get numbers from input files\n",
    "#lens = [100, 1000, 10000, 100000, 200000, 300000]\n",
    "l100 = []\n",
    "l1000 = []\n",
    "l10000 = []\n",
    "l100000 = []\n",
    "l200000 = []\n",
    "l300000 = []\n",
    "\n",
    "\n",
    "def getnums(l, length):\n",
    "    f = open(str(length) + \".txt\")\n",
    "    \n",
    "    for i in range(length):\n",
    "        l.append(int(f.readline()))\n",
    "    \n",
    "    f.close()\n",
    "    \n",
    "    return \n",
    "\n",
    "def unsort():\n",
    "    getnums(l100, 100)\n",
    "    getnums(l1000, 1000)\n",
    "    getnums(l10000, 10000)\n",
    "    getnums(l100000, 100000)\n",
    "    getnums(l200000, 200000)\n",
    "    getnums(l300000, 300000)\n",
    "\n",
    "unsort()"
   ]
  },
  {
   "cell_type": "markdown",
   "id": "45c7a943",
   "metadata": {},
   "source": [
    "### Bubble Sort"
   ]
  },
  {
   "cell_type": "code",
   "execution_count": 25,
   "id": "77f0aa44",
   "metadata": {},
   "outputs": [],
   "source": [
    "# pure python bubble sort\n",
    "# Python program for implementation of Bubble Sort\n",
    " \n",
    " \n",
    "def bubbleSort(arr):\n",
    "    n = len(arr)\n",
    " \n",
    "    # Traverse through all array elements\n",
    "    for i in range(n):\n",
    " \n",
    "        # Last i elements are already in place\n",
    "        for j in range(0, n-i-1):\n",
    " \n",
    "            # traverse the array from 0 to n-i-1\n",
    "            # Swap if the element found is greater\n",
    "            # than the next element\n",
    "            if arr[j] > arr[j+1]:\n",
    "                arr[j], arr[j+1] = arr[j+1], arr[j]"
   ]
  },
  {
   "cell_type": "code",
   "execution_count": 28,
   "id": "f9a0bf49",
   "metadata": {},
   "outputs": [
    {
     "name": "stdout",
     "output_type": "stream",
     "text": [
      "Vanilla Python (n = 100) -  0.02  seconds\n"
     ]
    }
   ],
   "source": [
    "unsort()\n",
    "start = time.time()\n",
    "bubbleSort(l100)\n",
    "end = time.time()\n",
    "print(\"Vanilla Python (n = 100) - \", round(end - start, 2), \" seconds\")"
   ]
  },
  {
   "cell_type": "code",
   "execution_count": 29,
   "id": "bf327775",
   "metadata": {},
   "outputs": [
    {
     "name": "stdout",
     "output_type": "stream",
     "text": [
      "Vanilla Python (n = 1000) -  3.35  seconds\n"
     ]
    }
   ],
   "source": [
    "unsort()\n",
    "start = time.time()\n",
    "bubbleSort(l1000)\n",
    "end = time.time()\n",
    "print(\"Vanilla Python (n = 1000) - \", round(end - start, 2), \" seconds\")"
   ]
  },
  {
   "cell_type": "code",
   "execution_count": 30,
   "id": "38b0edec",
   "metadata": {},
   "outputs": [
    {
     "name": "stdout",
     "output_type": "stream",
     "text": [
      "Vanilla Python (n = 10000) -  358.41  seconds\n"
     ]
    }
   ],
   "source": [
    "unsort()\n",
    "start = time.time()\n",
    "bubbleSort(l10000)\n",
    "end = time.time()\n",
    "print(\"Vanilla Python (n = 10000) - \", round(end - start, 2), \" seconds\")"
   ]
  },
  {
   "cell_type": "code",
   "execution_count": null,
   "id": "e068c200",
   "metadata": {},
   "outputs": [],
   "source": [
    "unsort()\n",
    "start = time.time()\n",
    "bubbleSort(l100000)\n",
    "end = time.time()\n",
    "print(\"Vanilla Python (n = 100000) - \", round(end - start, 2), \" seconds\")"
   ]
  },
  {
   "cell_type": "code",
   "execution_count": null,
   "id": "1dcc7cc3",
   "metadata": {},
   "outputs": [],
   "source": [
    "unsort()\n",
    "start = time.time()\n",
    "bubbleSort(l200000)\n",
    "end = time.time()\n",
    "print(\"Vanilla Python (n = 200000) - \", round(end - start, 2), \" seconds\")"
   ]
  },
  {
   "cell_type": "code",
   "execution_count": null,
   "id": "89cd0875",
   "metadata": {},
   "outputs": [],
   "source": [
    "unsort()\n",
    "start = time.time()\n",
    "bubbleSort(l300000)\n",
    "end = time.time()\n",
    "print(\"Vanilla Python (n = 300000) - \", round(end - start, 2), \" seconds\")"
   ]
  },
  {
   "cell_type": "code",
   "execution_count": null,
   "id": "826febc5",
   "metadata": {},
   "outputs": [],
   "source": []
  },
  {
   "cell_type": "code",
   "execution_count": 24,
   "id": "79c88ad9",
   "metadata": {},
   "outputs": [
    {
     "ename": "SyntaxError",
     "evalue": "invalid syntax (671940868.py, line 3)",
     "output_type": "error",
     "traceback": [
      "\u001b[0;36m  Input \u001b[0;32mIn [24]\u001b[0;36m\u001b[0m\n\u001b[0;31m    cdef extern from \"bubblesort.c\":\u001b[0m\n\u001b[0m         ^\u001b[0m\n\u001b[0;31mSyntaxError\u001b[0m\u001b[0;31m:\u001b[0m invalid syntax\n"
     ]
    }
   ],
   "source": [
    "import cython\n",
    "\n",
    "cdef extern from \"bubblesort.c\":\n",
    "    void bubblesort(int arr[], int n)"
   ]
  },
  {
   "cell_type": "code",
   "execution_count": null,
   "id": "b0552662",
   "metadata": {},
   "outputs": [],
   "source": []
  }
 ],
 "metadata": {
  "kernelspec": {
   "display_name": "Python 3 (ipykernel)",
   "language": "python",
   "name": "python3"
  },
  "language_info": {
   "codemirror_mode": {
    "name": "ipython",
    "version": 3
   },
   "file_extension": ".py",
   "mimetype": "text/x-python",
   "name": "python",
   "nbconvert_exporter": "python",
   "pygments_lexer": "ipython3",
   "version": "3.9.12"
  }
 },
 "nbformat": 4,
 "nbformat_minor": 5
}
